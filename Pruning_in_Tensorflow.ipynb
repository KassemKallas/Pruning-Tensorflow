{
  "cells": [
    {
      "cell_type": "markdown",
      "source": [
        "# Imports"
      ],
      "metadata": {
        "id": "Wb6a4pUI86-z"
      }
    },
    {
      "cell_type": "code",
      "source": [
        "import tensorflow as tf\n",
        "from tensorflow import keras\n",
        "from tensorflow.keras import layers\n",
        "import numpy as np"
      ],
      "metadata": {
        "id": "dPHTzbUB8-I6"
      },
      "execution_count": null,
      "outputs": []
    },
    {
      "cell_type": "markdown",
      "source": [
        "**Weights pruning function**"
      ],
      "metadata": {
        "id": "vZexInlRRFlW"
      }
    },
    {
      "cell_type": "code",
      "source": [
        "def weight_pruning(modelPruning, pruning_rate):\n",
        "    for idx, layer in enumerate(modelPruning.layers):\n",
        "        #print(layer.name, layer.trainable)\n",
        "\n",
        "        layer_weights = modelPruning.get_layer(name=layer.name).get_weights()\n",
        "\n",
        "        if np.array(layer_weights).shape[0] == 0:\n",
        "            weight = np.array(layer_weights)\n",
        "        else:\n",
        "            weight = np.array(layer_weights[0])\n",
        "\n",
        "        indices = np.random.choice(np.arange(weight.size), replace=False, size=int(weight.size * k))\n",
        "\n",
        "        weight[np.unravel_index(indices, weight.shape)] = 0\n",
        "\n",
        "        if np.array(layer_weights).shape[0] == 0:\n",
        "            layer_weights = weight\n",
        "        else:\n",
        "            layer_weights[0] = weight\n",
        "        \n",
        "        modelPruning.get_layer(name=layer.name).set_weights(layer_weights)\n",
        "    return modelPruning"
      ],
      "metadata": {
        "id": "g7s0xHRNRD-O"
      },
      "execution_count": null,
      "outputs": []
    },
    {
      "cell_type": "markdown",
      "source": [
        "**Fully connected layers pruning function**\n",
        "\n"
      ],
      "metadata": {
        "id": "r6rJt6C-wAUw"
      }
    },
    {
      "cell_type": "code",
      "source": [
        "def FC_pruning(model_FC_pruning, k):\n",
        "    for layer in filter(lambda x: 'dense' in x.name, model_FC_pruning.layers):\n",
        "        weights_shape, bias_shape = map(lambda x: x.shape, layer.get_weights())\n",
        "        pruned_weights = np.copy(np.array(layer.get_weights()[0]))\n",
        "        pruned_bias = np.copy(np.array(layer.get_weights()[1]))\n",
        "\n",
        "        indices = np.random.choice(pruned_weights.shape[1]*pruned_weights.shape[0],\n",
        "                                    replace=False, size=int(pruned_weights.shape[1]*pruned_weights.shape[0]*k))\n",
        "        pruned_weights[np.unravel_index(indices, pruned_weights.shape)] = 0\n",
        "\n",
        "        layer.set_weights([pruned_weights, pruned_bias])\n",
        "    return model_FCPruning"
      ],
      "metadata": {
        "id": "Fol0nnQ2v_w-"
      },
      "execution_count": null,
      "outputs": []
    }
  ],
  "metadata": {
    "accelerator": "GPU",
    "colab": {
      "collapsed_sections": [],
      "machine_shape": "hm",
      "provenance": []
    },
    "kernelspec": {
      "display_name": "Python 3",
      "name": "python3"
    },
    "language_info": {
      "name": "python"
    }
  },
  "nbformat": 4,
  "nbformat_minor": 0
}